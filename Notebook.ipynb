{
 "cells": [
  {
   "cell_type": "code",
   "execution_count": null,
   "metadata": {},
   "outputs": [],
   "source": [
    "%pip install -r requirements.txt"
   ]
  },
  {
   "cell_type": "code",
   "execution_count": 1,
   "metadata": {},
   "outputs": [
    {
     "name": "stdout",
     "output_type": "stream",
     "text": [
      "det här är storleken 20\n",
      "det här är hela grejen [2 1 3 2 1 2 3 2 3 1 2 3 1 2 3 1 2 3 1 2]\n",
      "These are the classes [1 2 3]\n",
      "det här är storleken 12\n",
      "det här är hela grejen [1 3 1 3 3 1 3 1 3 1 3 1]\n",
      "These are the classes [1 2 3]\n"
     ]
    }
   ],
   "source": [
    "import numpy as np\n",
    "from data_creator import DataCreator\n",
    "\n",
    "data = np.array([2, 1, 3, 2, 1, 2, 3, 2, 3, 1, 2, 3, 1, 2, 3, 1, 2, 3, 1, 2])\n",
    "data_modifier = DataCreator(data)\n",
    "data_modifier.print_data_structure()\n",
    "data_modifier.remove_data_classes(2)\n",
    "data_modifier.print_data_structure()"
   ]
  }
 ],
 "metadata": {
  "kernelspec": {
   "display_name": "Python 3",
   "language": "python",
   "name": "python3"
  },
  "language_info": {
   "codemirror_mode": {
    "name": "ipython",
    "version": 3
   },
   "file_extension": ".py",
   "mimetype": "text/x-python",
   "name": "python",
   "nbconvert_exporter": "python",
   "pygments_lexer": "ipython3",
   "version": "3.10.12"
  }
 },
 "nbformat": 4,
 "nbformat_minor": 2
}
